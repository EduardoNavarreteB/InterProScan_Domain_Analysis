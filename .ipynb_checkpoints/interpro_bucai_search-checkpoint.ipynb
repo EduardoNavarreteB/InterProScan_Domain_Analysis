{
 "cells": [
  {
   "cell_type": "code",
   "execution_count": 1,
   "metadata": {},
   "outputs": [],
   "source": [
    "#Imports\n",
    "import re\n",
    "import pandas as pd\n",
    "import requests, sys, json\n",
    "from collections import Counter"
   ]
  },
  {
   "cell_type": "code",
   "execution_count": 2,
   "metadata": {},
   "outputs": [],
   "source": [
    "#Keywords que funcionarán para filtrar los resultados de acuerdo al tipo de familia/dominio\n",
    "keywords = [\"DNA-binding\", \"Helix-turn-helix\",\n",
    "            \"Helix-loop-helix\", \"zinc finger\",\n",
    "            \"Leucine zipper\", \"Winged\",\n",
    "            \"bHLH\", \"HTH\", \"Winged helix\",\n",
    "            \"winged-helix\", \"helix turn helix\",\n",
    "            \"leucine-zipper\", \"zinc-finger\",\n",
    "            \"Zn-finger\", \"Zinc finger\"\n",
    "            \"Sigma\", \"basic-leucine\",\"leucine zipper\",\n",
    "            \"Homeodomain-like\", \"Homeodomain\", \"HemN-like\",\n",
    "            \"transcription factor\",\n",
    "            \"Regulator\", \"Regulatory\", \"Histon-like\",\n",
    "            \"Nucleic acid-binding\", \"Winged helix\",\n",
    "            \"winged-helix\", \"HTH\",\n",
    "            \"DNA binding\"]"
   ]
  },
  {
   "cell_type": "code",
   "execution_count": 3,
   "metadata": {},
   "outputs": [],
   "source": [
    "#Apertura de archivos\n",
    "with open('buchnera_anotation_not_precalc.tsv', 'r', ) as buc, open('IPR_list.tsv', 'r') as ipr, open('interpro2go.txt', 'r') as i2go:\n",
    "    iprscan_out, ipr_list, ipr_go = buc.readlines(),  ipr.readlines(), i2go.readlines()\n",
    "    #Lista de listas de IPR_list formato: [[InterProAcc, Tipo, Nombre]] Tipo corresponde a Dominio, familia, etc. nombre para nombre de dominio\n",
    "    iprscan_output = [i.split('\\t') for i in iprscan_out]\n",
    "    ipr_type_name = [i.replace('\\n', '').split('\\t') for i in ipr_list[1:]]\n",
    "    ipr2go = [i.replace('\\n', '').replace(' ', '>', 1).replace(';', '>').replace(' ', '').replace('InterPro:', '').split('>') for i in ipr_go[5:]]"
   ]
  },
  {
   "cell_type": "code",
   "execution_count": 16,
   "metadata": {},
   "outputs": [],
   "source": [
    "#plantear una función que tome los keywords como argumentos y la lista ipr_type_name para filtrar los\n",
    "#IPRaccession numbers de acuerdo a las keywords\n",
    "def filter_by_kwds(keys, iprs):\n",
    "    \"\"\"\n",
    "    Esta función se encarga de tomar una serie de keywords declaradas en una lista, y con ellas filtrar\n",
    "    los IPR ACS provenientes de InterPro con la información de cada uno de los dominios, familias, sitios, etc\n",
    "    ARGS:\n",
    "        keys: keywords para filtrar\n",
    "        iprs: lista con listas de los IPR accession numbers, dominio/familia/etc..., nombre\n",
    "    RETURNS\n",
    "        ipr_type_name_filtred\n",
    "    \"\"\"\n",
    "    ipr_type_name_filtred = [r for r in iprs if any(k.lower() in r[2].lower() for k in keys)]\n",
    "    return ipr_type_name_filtred\n",
    "#Plantear una función que ayude a filtrar posibles GO's relacionados a la regulación\n",
    "#haciendo uso del filter_by_kwds\n",
    "def obtain_reulatory_gos(ipr_filt, ipr_gos, nombre):\n",
    "    \"\"\"\n",
    "    Esta función se encarga de comparar un archivo de InterPro accession filtrados para un tipo de dominio o familia con uno\n",
    "    que relaciona InterPro numbers y GO's de InterPro, para obtener al final una lista de posibles GOs relacionados con la \n",
    "    regulación.\n",
    "    ARGS:\n",
    "        ipr_filt: es una relación de listas de listas con los ipr filtrados previamente con keywords\n",
    "        ipr_gos: es una lista de listas con IPR accesions, anotacionIPR, anotaciónGO, GO Term\n",
    "    \"\"\"\n",
    "    r_gos = []\n",
    "    for i in ipr_filt:\n",
    "        for j in ipr_gos:\n",
    "            if i[0] == j[0]:\n",
    "                r_gos.append(j[-1])\n",
    "    r_gos = list(set(r_gos))\n",
    "    with open(nombre, 'w') as g:\n",
    "        for i in r_gos:\n",
    "            print(i, file=g)\n",
    "    return r_gos\n",
    "#Planteo de una función para filtrar la salida de InterProScan que estén anotados con algun IPR accession number\n",
    "def filter_ipscan_by_ipr(iprscan, iprfilt):\n",
    "    \"\"\"\n",
    "    Esta función se encarga de filtrar una salidade InterPro scan con una lista de IPR accession numbers filtrados para un tipo de \n",
    "    dominio, como aquellos encargados de la regulación genética, estos últimos deben ser filtrados con keywords.\n",
    "    ARGS:\n",
    "        iprscan: es la salida procesada en forma de listas de listas de InterProScan\n",
    "        iprfilt: son los IPR accession numbers filtrados por keywords\n",
    "    RETURNS:\n",
    "        iprscan_filtred\n",
    "    \"\"\"\n",
    "    iprscan_filtred = []\n",
    "    for i in iprfilt:\n",
    "        for j in iprscan:\n",
    "            if i[0] == j[11]:\n",
    "                f = [j[0], i[0], i[2], i[1], j[13]]\n",
    "                iprscan_filtred.append(f)\n",
    "    return iprscan_filtred\n",
    "#Funcion que filtra por gos la salida prefiltrada de InterProScan\n",
    "def filter_iprscan_by_gos(iprs, reg_gos, score):\n",
    "    \"\"\"\n",
    "    Esta función se encarga de filtrar una salida prefiltrada de InterProScan a través de IPR accession numbers.\n",
    "    Aquí se podrá filtrar esta última por GOs asociados a la regulación genética.\n",
    "    ARGS:\n",
    "        iprs: salida prefiltrada de InterProScan\n",
    "        reg_gos: lista de GO relacionados a regulación u otro.\n",
    "        score: score que el usuario desee rescatar del filtro\n",
    "    RETURNS:\n",
    "        one: proteinas con score de confiabilidad 1, tienen GO pero no relacionado a regulación\n",
    "        two: proteinas con score de confiabilidad 2, no tienen GO\n",
    "        three: proteinas con score de confiabilidad 3, tienen GO relacionado a la regulación\n",
    "    \"\"\"\n",
    "    one = [i for i in iprs if i[-1] != '-' and not any(go in i[-1] for go in reg_gos)]\n",
    "    two = [i for i in iprs if i[-1] == '-']\n",
    "    three = [i for i in iprs if i[-1] != '-' and any (go in i[-1] for go in reg_gos)]\n",
    "    if score == 1:\n",
    "        return one\n",
    "    elif score == 2:\n",
    "        return two\n",
    "    elif score == 3:\n",
    "        return three\n",
    "    else:\n",
    "        print('Los scores solo van de 1 a 3, elija: 1, 2, o 3')\n",
    "#Funcion que se encarga de extraer información como protein IDS, IPR accession numbers de una lista de listas\n",
    "def extract_info(patron, ipr):\n",
    "    \"\"\"\n",
    "    Documentación\n",
    "\n",
    "    \"\"\"\n",
    "    p = re.compile(patron)\n",
    "    info = [(re.search(p, r[0]).group(1), r[1], r[2], r[3], r[4]) for r in ipr]\n",
    "    return info\n",
    "#función que se encarga de hacer solicitudes a la API de un sitio web\n",
    "def get_url(url, **kwargs):\n",
    "    \"\"\"\n",
    "    Documentación\n",
    "    \"\"\"\n",
    "    response = requests.get(url, **kwargs)\n",
    "    if not response.ok:\n",
    "        print(response.text)\n",
    "        response.raise_for_status()\n",
    "        sys.exit()\n",
    "    return response\n",
    "# Función que extrae información desde la website api de las proteinas proporcionadas\n",
    "def consult_from_uniprot(website, proteins, resp):\n",
    "    \"\"\"\n",
    "    Documentacion\n",
    "    DE MOMENTO SOLO FUNCIONA PARA EXTRAER NOMBRES DE GENES Y PROTEINAS\n",
    "    ESTARÍA COOL DEJARLA PARA PEDIRLE LA INFORMACIÓN QUE SE REQUIERA\n",
    "    \"\"\"\n",
    "    info_proteins = []\n",
    "    for i in proteins:\n",
    "        try:\n",
    "            req = resp(f\"{website}/uniprotkb/{i[0]}\")\n",
    "            api_data = req.json()\n",
    "            gene = api_data['genes'][0]['geneName']['value']\n",
    "            prot = api_data['proteinDescription']['recommendedName']['fullName']['value']\n",
    "            f = [i[0], gene, prot, i[2], i[3], i[1], i[4].replace('|', ', ')]\n",
    "            info_proteins.append(f)\n",
    "        except:\n",
    "            s = f'No info for: {i[0]}'\n",
    "            info_proteins.append(s)\n",
    "    return info_proteins"
   ]
  },
  {
   "cell_type": "code",
   "execution_count": 32,
   "metadata": {},
   "outputs": [],
   "source": [
    "#1\n",
    "interpro_type_name_filt = filter_by_kwds(keywords, ipr_type_name)"
   ]
  },
  {
   "cell_type": "code",
   "execution_count": 33,
   "metadata": {},
   "outputs": [],
   "source": [
    "#2\n",
    "name = 'put_reg_go.txt'\n",
    "regulatory_gos = obtain_reulatory_gos(interpro_type_name_filt, ipr2go, name)"
   ]
  },
  {
   "cell_type": "code",
   "execution_count": 34,
   "metadata": {},
   "outputs": [],
   "source": [
    "#3\n",
    "interproscan_output_filt = filter_ipscan_by_ipr(iprscan_output, interpro_type_name_filt)"
   ]
  },
  {
   "cell_type": "code",
   "execution_count": 41,
   "metadata": {},
   "outputs": [],
   "source": [
    "#4\n",
    "posible_regulatory_proteins = filter_iprscan_by_gos(interproscan_output_filt, regulatory_gos, 3)"
   ]
  },
  {
   "cell_type": "code",
   "execution_count": 42,
   "metadata": {},
   "outputs": [],
   "source": [
    "#5\n",
    "patron = r'sp\\|([A-Za-z0-9]+)\\|'\n",
    "protein_info = extract_info(patron, posible_regulatory_proteins)"
   ]
  },
  {
   "cell_type": "code",
   "execution_count": 43,
   "metadata": {},
   "outputs": [],
   "source": [
    "#6\n",
    "WEBISTE_API = \"https://rest.uniprot.org/\"\n",
    "#documentación: https://ww.ebi.ac.uk/proteins/api/doc/\n",
    "PROTEINS_API = \"https://www.ebi.ac.uk/proteins/api\"\n",
    "# link = get_url(f)"
   ]
  },
  {
   "cell_type": "code",
   "execution_count": 44,
   "metadata": {},
   "outputs": [],
   "source": [
    "#7\n",
    "prot_gen_dom = consult_from_uniprot(WEBISTE_API, protein_info, get_url)"
   ]
  },
  {
   "cell_type": "code",
   "execution_count": 45,
   "metadata": {},
   "outputs": [
    {
     "data": {
      "text/plain": [
       "(17,\n",
       " {'clpX',\n",
       "  'cspC',\n",
       "  'cspE',\n",
       "  'csrA',\n",
       "  'dksA',\n",
       "  'dnaG',\n",
       "  'fis',\n",
       "  'hisS',\n",
       "  'hup',\n",
       "  'ihfA',\n",
       "  'ihfB',\n",
       "  'ligA',\n",
       "  'nusA',\n",
       "  'priA',\n",
       "  'pyrI',\n",
       "  'ssb',\n",
       "  'topA'})"
      ]
     },
     "execution_count": 45,
     "metadata": {},
     "output_type": "execute_result"
    }
   ],
   "source": [
    "len(set([i[0] for i in prot_gen_dom])), set([i[1] for i in prot_gen_dom])"
   ]
  },
  {
   "cell_type": "code",
   "execution_count": 46,
   "metadata": {},
   "outputs": [
    {
     "data": {
      "text/html": [
       "<div>\n",
       "<style scoped>\n",
       "    .dataframe tbody tr th:only-of-type {\n",
       "        vertical-align: middle;\n",
       "    }\n",
       "\n",
       "    .dataframe tbody tr th {\n",
       "        vertical-align: top;\n",
       "    }\n",
       "\n",
       "    .dataframe thead th {\n",
       "        text-align: right;\n",
       "    }\n",
       "</style>\n",
       "<table border=\"1\" class=\"dataframe\">\n",
       "  <thead>\n",
       "    <tr style=\"text-align: right;\">\n",
       "      <th></th>\n",
       "      <th>UniProtkbID</th>\n",
       "      <th>Gene Name</th>\n",
       "      <th>Protein Name</th>\n",
       "      <th>Domain/Family/Active site</th>\n",
       "      <th>Type</th>\n",
       "      <th>InterPro</th>\n",
       "      <th>GO</th>\n",
       "    </tr>\n",
       "  </thead>\n",
       "  <tbody>\n",
       "    <tr>\n",
       "      <th>0</th>\n",
       "      <td>P57394</td>\n",
       "      <td>ihfB</td>\n",
       "      <td>Integration host factor subunit beta</td>\n",
       "      <td>Histone-like DNA-binding protein, conserved site</td>\n",
       "      <td>Conserved_site</td>\n",
       "      <td>IPR020816</td>\n",
       "      <td>GO:0003677(InterPro)</td>\n",
       "    </tr>\n",
       "    <tr>\n",
       "      <th>1</th>\n",
       "      <td>P57144</td>\n",
       "      <td>hup</td>\n",
       "      <td>DNA-binding protein HU</td>\n",
       "      <td>Histone-like DNA-binding protein, conserved site</td>\n",
       "      <td>Conserved_site</td>\n",
       "      <td>IPR020816</td>\n",
       "      <td>GO:0003677(InterPro)</td>\n",
       "    </tr>\n",
       "    <tr>\n",
       "      <th>2</th>\n",
       "      <td>P57231</td>\n",
       "      <td>ihfA</td>\n",
       "      <td>Integration host factor subunit alpha</td>\n",
       "      <td>Histone-like DNA-binding protein, conserved site</td>\n",
       "      <td>Conserved_site</td>\n",
       "      <td>IPR020816</td>\n",
       "      <td>GO:0003677(InterPro)</td>\n",
       "    </tr>\n",
       "    <tr>\n",
       "      <th>3</th>\n",
       "      <td>P57294</td>\n",
       "      <td>dksA</td>\n",
       "      <td>RNA polymerase-binding transcription factor DksA</td>\n",
       "      <td>Zinc finger, DksA/TraR C4-type</td>\n",
       "      <td>Domain</td>\n",
       "      <td>IPR000962</td>\n",
       "      <td>GO:0008270(InterPro)</td>\n",
       "    </tr>\n",
       "    <tr>\n",
       "      <th>4</th>\n",
       "      <td>P63237</td>\n",
       "      <td>cspE</td>\n",
       "      <td>Cold shock-like protein CspE</td>\n",
       "      <td>Cold-shock protein, DNA-binding</td>\n",
       "      <td>Domain</td>\n",
       "      <td>IPR002059</td>\n",
       "      <td>GO:0003676(InterPro)</td>\n",
       "    </tr>\n",
       "    <tr>\n",
       "      <th>...</th>\n",
       "      <td>...</td>\n",
       "      <td>...</td>\n",
       "      <td>...</td>\n",
       "      <td>...</td>\n",
       "      <td>...</td>\n",
       "      <td>...</td>\n",
       "      <td>...</td>\n",
       "    </tr>\n",
       "    <tr>\n",
       "      <th>77</th>\n",
       "      <td>P57459</td>\n",
       "      <td>nusA</td>\n",
       "      <td>Transcription termination/antitermination prot...</td>\n",
       "      <td>DNA repair Rad51/transcription factor NusA, al...</td>\n",
       "      <td>Homologous_superfamily</td>\n",
       "      <td>IPR010995</td>\n",
       "      <td>GO:0000166(InterPro)</td>\n",
       "    </tr>\n",
       "    <tr>\n",
       "      <th>78</th>\n",
       "      <td>P57459</td>\n",
       "      <td>nusA</td>\n",
       "      <td>Transcription termination/antitermination prot...</td>\n",
       "      <td>DNA repair Rad51/transcription factor NusA, al...</td>\n",
       "      <td>Homologous_superfamily</td>\n",
       "      <td>IPR010995</td>\n",
       "      <td>GO:0000166(InterPro)</td>\n",
       "    </tr>\n",
       "    <tr>\n",
       "      <th>79</th>\n",
       "      <td>P57484</td>\n",
       "      <td>csrA</td>\n",
       "      <td>Translational regulator CsrA</td>\n",
       "      <td>Carbon storage regulator superfamily</td>\n",
       "      <td>Homologous_superfamily</td>\n",
       "      <td>IPR036107</td>\n",
       "      <td>GO:0003723(InterPro), GO:0006109(InterPro), GO...</td>\n",
       "    </tr>\n",
       "    <tr>\n",
       "      <th>80</th>\n",
       "      <td>P57484</td>\n",
       "      <td>csrA</td>\n",
       "      <td>Translational regulator CsrA</td>\n",
       "      <td>Carbon storage regulator superfamily</td>\n",
       "      <td>Homologous_superfamily</td>\n",
       "      <td>IPR036107</td>\n",
       "      <td>GO:0003723(InterPro), GO:0006109(InterPro), GO...</td>\n",
       "    </tr>\n",
       "    <tr>\n",
       "      <th>81</th>\n",
       "      <td>P57164</td>\n",
       "      <td>dnaG</td>\n",
       "      <td>DNA primase</td>\n",
       "      <td>DNA Primase, CHC2-type zinc finger</td>\n",
       "      <td>Homologous_superfamily</td>\n",
       "      <td>IPR036977</td>\n",
       "      <td>GO:0003677(InterPro), GO:0006260(InterPro), GO...</td>\n",
       "    </tr>\n",
       "  </tbody>\n",
       "</table>\n",
       "<p>82 rows × 7 columns</p>\n",
       "</div>"
      ],
      "text/plain": [
       "   UniProtkbID Gene Name                                       Protein Name  \\\n",
       "0       P57394      ihfB               Integration host factor subunit beta   \n",
       "1       P57144       hup                             DNA-binding protein HU   \n",
       "2       P57231      ihfA              Integration host factor subunit alpha   \n",
       "3       P57294      dksA   RNA polymerase-binding transcription factor DksA   \n",
       "4       P63237      cspE                       Cold shock-like protein CspE   \n",
       "..         ...       ...                                                ...   \n",
       "77      P57459      nusA  Transcription termination/antitermination prot...   \n",
       "78      P57459      nusA  Transcription termination/antitermination prot...   \n",
       "79      P57484      csrA                       Translational regulator CsrA   \n",
       "80      P57484      csrA                       Translational regulator CsrA   \n",
       "81      P57164      dnaG                                        DNA primase   \n",
       "\n",
       "                            Domain/Family/Active site                    Type  \\\n",
       "0    Histone-like DNA-binding protein, conserved site          Conserved_site   \n",
       "1    Histone-like DNA-binding protein, conserved site          Conserved_site   \n",
       "2    Histone-like DNA-binding protein, conserved site          Conserved_site   \n",
       "3                      Zinc finger, DksA/TraR C4-type                  Domain   \n",
       "4                     Cold-shock protein, DNA-binding                  Domain   \n",
       "..                                                ...                     ...   \n",
       "77  DNA repair Rad51/transcription factor NusA, al...  Homologous_superfamily   \n",
       "78  DNA repair Rad51/transcription factor NusA, al...  Homologous_superfamily   \n",
       "79               Carbon storage regulator superfamily  Homologous_superfamily   \n",
       "80               Carbon storage regulator superfamily  Homologous_superfamily   \n",
       "81                 DNA Primase, CHC2-type zinc finger  Homologous_superfamily   \n",
       "\n",
       "     InterPro                                                 GO  \n",
       "0   IPR020816                               GO:0003677(InterPro)  \n",
       "1   IPR020816                               GO:0003677(InterPro)  \n",
       "2   IPR020816                               GO:0003677(InterPro)  \n",
       "3   IPR000962                               GO:0008270(InterPro)  \n",
       "4   IPR002059                               GO:0003676(InterPro)  \n",
       "..        ...                                                ...  \n",
       "77  IPR010995                               GO:0000166(InterPro)  \n",
       "78  IPR010995                               GO:0000166(InterPro)  \n",
       "79  IPR036107  GO:0003723(InterPro), GO:0006109(InterPro), GO...  \n",
       "80  IPR036107  GO:0003723(InterPro), GO:0006109(InterPro), GO...  \n",
       "81  IPR036977  GO:0003677(InterPro), GO:0006260(InterPro), GO...  \n",
       "\n",
       "[82 rows x 7 columns]"
      ]
     },
     "execution_count": 46,
     "metadata": {},
     "output_type": "execute_result"
    }
   ],
   "source": [
    "#construyendo data frame y exportando resultados\n",
    "col_names = [\"UniProtkbID\", \"Gene Name\", \"Protein Name\", \"Domain/Family/Active site\", \"Type\", \"InterPro\", \"GO\"]\n",
    "df_results = pd.DataFrame(prot_gen_dom, columns=col_names)\n",
    "df_results.to_csv('resultados_interpro_filtrados.tsv', sep='\\t', index=False)\n",
    "df_results"
   ]
  },
  {
   "cell_type": "code",
   "execution_count": 50,
   "metadata": {},
   "outputs": [],
   "source": [
    "with open('resultados_interpro_filtrados.tsv', 'r') as x, open('resultados_interpro_filtrados_sinGO.tsv', 'r') as y:\n",
    "    info_x, info_y = x.readlines(), y.readlines()\n",
    "    con_gos = [i.split('\\t') for i in info_x[1:]]\n",
    "    sin_gos = [i.split('\\t') for i in info_y[1:]]\n",
    "    set_con_gos = set([i[1] for i in con_gos])\n",
    "    set_sin_gos = set([i[1] for i in sin_gos])"
   ]
  },
  {
   "cell_type": "code",
   "execution_count": 54,
   "metadata": {},
   "outputs": [
    {
     "data": {
      "text/plain": [
       "{'clpX', 'cspC', 'cspE', 'dksA', 'ligA', 'nusA', 'priA', 'pyrI', 'ssb', 'topA'}"
      ]
     },
     "execution_count": 54,
     "metadata": {},
     "output_type": "execute_result"
    }
   ],
   "source": [
    "set_con_gos.intersection(set_sin_gos)"
   ]
  },
  {
   "cell_type": "code",
   "execution_count": 55,
   "metadata": {},
   "outputs": [
    {
     "data": {
      "text/plain": [
       "{'csrA', 'dnaG', 'fis', 'hisS', 'hup', 'ihfA', 'ihfB'}"
      ]
     },
     "execution_count": 55,
     "metadata": {},
     "output_type": "execute_result"
    }
   ],
   "source": [
    "set_con_gos.difference(set_sin_gos)"
   ]
  },
  {
   "cell_type": "code",
   "execution_count": 56,
   "metadata": {},
   "outputs": [
    {
     "data": {
      "text/plain": [
       "{'asnS',\n",
       " 'aspS',\n",
       " 'dnaT',\n",
       " 'efp',\n",
       " 'hisG',\n",
       " 'ileS',\n",
       " 'ilvH',\n",
       " 'infA',\n",
       " 'infB',\n",
       " 'lysS',\n",
       " 'mutL',\n",
       " 'pheT',\n",
       " 'pnp',\n",
       " 'rho',\n",
       " 'rnb',\n",
       " 'rne',\n",
       " 'rnr',\n",
       " 'rplB',\n",
       " 'rpoD',\n",
       " 'rpsA',\n",
       " 'rpsL',\n",
       " 'rpsQ'}"
      ]
     },
     "execution_count": 56,
     "metadata": {},
     "output_type": "execute_result"
    }
   ],
   "source": [
    "set_sin_gos.difference(set_con_gos)"
   ]
  }
 ],
 "metadata": {
  "kernelspec": {
   "display_name": "Python 3 (ipykernel)",
   "language": "python",
   "name": "python3"
  },
  "language_info": {
   "codemirror_mode": {
    "name": "ipython",
    "version": 3
   },
   "file_extension": ".py",
   "mimetype": "text/x-python",
   "name": "python",
   "nbconvert_exporter": "python",
   "pygments_lexer": "ipython3",
   "version": "3.8.16"
  }
 },
 "nbformat": 4,
 "nbformat_minor": 2
}
